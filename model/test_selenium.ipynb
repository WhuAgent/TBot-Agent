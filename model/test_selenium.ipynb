{
 "cells": [
  {
   "cell_type": "code",
   "execution_count": 36,
   "id": "initial_id",
   "metadata": {
    "collapsed": true,
    "ExecuteTime": {
     "end_time": "2024-04-29T08:04:04.245944Z",
     "start_time": "2024-04-29T08:04:04.237651Z"
    }
   },
   "source": [
    "import json\n",
    "\n",
    "import click\n",
    "\n",
    "from selenium import webdriver\n",
    "from selenium.webdriver.chrome.service import Service\n",
    "from selenium.webdriver.common.by import By\n",
    "from bs4 import BeautifulSoup\n",
    "\n",
    "from utils import chat_llm"
   ],
   "outputs": []
  },
  {
   "cell_type": "code",
   "source": [
    "html2json_prompt_path = \"../../prompt/ours/html2json.txt\"\n",
    "\n",
    "with open(html2json_prompt_path, \"r\") as f:\n",
    "    html2json_prompt = f.read()\n",
    "    \n",
    "print(html2json_prompt)"
   ],
   "metadata": {
    "collapsed": false,
    "ExecuteTime": {
     "end_time": "2024-04-29T08:04:05.058145Z",
     "start_time": "2024-04-29T08:04:05.055643Z"
    }
   },
   "id": "3357def4e855be50",
   "execution_count": 37,
   "outputs": []
  },
  {
   "cell_type": "code",
   "source": [
    "chromedriver_path = \"/home/lornd/Downloads/chromedriver\"\n",
    "\n",
    "def get_webdriver():\n",
    "    service = Service(chromedriver_path)\n",
    "    options = webdriver.ChromeOptions()\n",
    "    options.add_argument(\"disable-gpu\")\n",
    "    options.add_argument(\"no-sandbox\")\n",
    "\n",
    "    chromedriver = webdriver.Chrome(service=service, options=options)\n",
    "    chromedriver.implicitly_wait(5)\n",
    "    chromedriver.maximize_window()\n",
    "    chromedriver.implicitly_wait(5)\n",
    "\n",
    "    return chromedriver\n",
    "\n",
    "driver = get_webdriver()\n"
   ],
   "metadata": {
    "collapsed": false,
    "ExecuteTime": {
     "end_time": "2024-04-29T08:04:06.160965Z",
     "start_time": "2024-04-29T08:04:05.770707Z"
    }
   },
   "id": "7f9f3f031c6c99aa",
   "execution_count": 38,
   "outputs": []
  },
  {
   "cell_type": "code",
   "source": [
    "def is_hidden(element):\n",
    "    if element is None:\n",
    "        return True\n",
    "    style = element.get(\"style\", \"\")\n",
    "    if \"display: none\" in style or \"visibility: hidden\" in style:\n",
    "        return True\n",
    "    css_class = element.get(\"class\", \"\")\n",
    "    # click.echo(click.style(f\"Style: {style}\", fg=\"green\"))\n",
    "    # click.echo(click.style(f\"class: {css_class}\", fg=\"blue\"))\n",
    "    if \"hide\" in css_class:\n",
    "        return True\n",
    "    return False\n",
    "\n",
    "\n",
    "def delete_hidden_elements(html):\n",
    "    soup = BeautifulSoup(html, \"html.parser\")\n",
    "    all_elements = soup.find_all(True)\n",
    "    \n",
    "    elements_to_remove = []\n",
    "    for element in all_elements:\n",
    "        if is_hidden(element):\n",
    "            elements_to_remove.append(element)\n",
    "\n",
    "    for element in elements_to_remove:\n",
    "        element.decompose()\n",
    "    \n",
    "    new_html = str(soup)\n",
    "    return new_html"
   ],
   "metadata": {
    "collapsed": false,
    "ExecuteTime": {
     "end_time": "2024-04-29T08:04:08.302958Z",
     "start_time": "2024-04-29T08:04:08.299347Z"
    }
   },
   "id": "b599ac1cdd8ab469",
   "execution_count": 39,
   "outputs": []
  },
  {
   "cell_type": "code",
   "source": [
    "def html2json(env_name, driver):\n",
    "    miniwob_dir = \"/home/lornd/Projects/WebNavigation/env/miniwob/miniwob_interface/html/miniwob\"\n",
    "\n",
    "    base_url = f\"file://{miniwob_dir}\"\n",
    "    \n",
    "    url = f\"{base_url}/{env_name}.html\"\n",
    "    \n",
    "    driver.get(url)\n",
    "    \n",
    "    driver.execute_script(\"core.startEpisodeReal();\")\n",
    "    \n",
    "    task = driver.execute_script(\"return core.getUtterance();\") # 获取当前网页需要做的事情 \n",
    "    \n",
    "    playground = driver.find_element(By.ID, \"area\")\n",
    "        \n",
    "    html = playground.get_attribute(\"outerHTML\")\n",
    "    \n",
    "    html = delete_hidden_elements(html)\n",
    "    \n",
    "    click.echo(click.style(html, fg=\"green\"))\n",
    "    \n",
    "    messages = [\n",
    "        {\"role\": \"system\", \"content\": html2json_prompt},\n",
    "        {\"role\": \"user\", \"content\": html}\n",
    "    ]\n",
    "    \n",
    "    model = \"gpt-3.5-turbo\"\n",
    "    response = chat_llm(model, messages)\n",
    "    content = response.content\n",
    "    role = response.role\n",
    "    return task, content"
   ],
   "metadata": {
    "collapsed": false,
    "ExecuteTime": {
     "end_time": "2024-04-29T08:04:08.976106Z",
     "start_time": "2024-04-29T08:04:08.972142Z"
    }
   },
   "id": "757a30e47dbba3a1",
   "execution_count": 40,
   "outputs": []
  },
  {
   "cell_type": "code",
   "source": [
    "ignored_tags = [\"br\"]\n",
    "\n",
    "def dfs(element):\n",
    "    if element.tag_name in ignored_tags:\n",
    "        return None\n",
    "    has_children = driver.execute_script(\"return arguments[0].children.length > 0;\", element)\n",
    "    if has_children:\n",
    "        all_child_elements = element.find_elements(By.XPATH, \"./*\")\n",
    "        children = []\n",
    "\n",
    "        for child in all_child_elements:\n",
    "            child_result = dfs(child)\n",
    "            if child_result is not None:\n",
    "                children.append(child_result)\n",
    "\n",
    "        return {\n",
    "            \"tag\": element.tag_name,\n",
    "            \"children\": children\n",
    "        }\n",
    "    else:\n",
    "        return {\n",
    "            \"tag\": element.tag_name,\n",
    "            \"content\": element.text\n",
    "        }\n",
    "\n",
    "\n",
    "def html2json_dfs(env_name, driver):\n",
    "    miniwob_dir = \"/home/lornd/Projects/WebNavigation/env/miniwob/miniwob_interface/html/miniwob\"\n",
    "\n",
    "    base_url = f\"file://{miniwob_dir}\"\n",
    "\n",
    "    url = f\"{base_url}/{env_name}.html\"\n",
    "\n",
    "    driver.get(url)\n",
    "\n",
    "    driver.execute_script(\"core.startEpisodeReal();\")\n",
    "\n",
    "    task = driver.execute_script(\"return core.getUtterance();\")  # 获取当前网页需要做的事情\n",
    "\n",
    "    playground = driver.find_element(By.ID, \"area\")\n",
    "\n",
    "    return dfs(playground)"
   ],
   "metadata": {
    "collapsed": false,
    "ExecuteTime": {
     "end_time": "2024-04-29T08:05:12.096538Z",
     "start_time": "2024-04-29T08:05:12.089242Z"
    }
   },
   "id": "dc3de28343a16c72",
   "execution_count": 43,
   "outputs": []
  },
  {
   "cell_type": "code",
   "source": [
    "# goal, playground = html2json(\"choose-list\", driver)\n",
    "# click.echo(click.style(f\"goal: {goal}\", fg=\"blue\"))\n",
    "# click.echo(click.style(f\"playground: {playground}\", fg=\"green\"))\n",
    "res = html2json_dfs(\"choose-list\", driver)\n",
    "print(json.dumps(res, indent=4))"
   ],
   "metadata": {
    "collapsed": false,
    "ExecuteTime": {
     "end_time": "2024-04-29T08:05:13.526908Z",
     "start_time": "2024-04-29T08:05:13.385873Z"
    }
   },
   "id": "85e044cb46c692",
   "execution_count": 44,
   "outputs": []
  },
  {
   "cell_type": "code",
   "source": [
    "# print(html2json(\"click-button\", driver))\n",
    "# print(html2json_dfs(\"click-button\", driver))\n",
    "res = html2json_dfs(\"click-button\", driver)\n",
    "print(json.dumps(res, indent=4))"
   ],
   "metadata": {
    "collapsed": false,
    "ExecuteTime": {
     "end_time": "2024-04-29T08:09:06.181828Z",
     "start_time": "2024-04-29T08:09:05.952508Z"
    }
   },
   "id": "faeb6a846be8c281",
   "execution_count": 45,
   "outputs": []
  },
  {
   "cell_type": "code",
   "source": [
    "print(html2json(\"enter-password\", driver))"
   ],
   "metadata": {
    "collapsed": false
   },
   "id": "763437e91d970e8",
   "execution_count": null,
   "outputs": []
  },
  {
   "cell_type": "code",
   "source": [
    "print(html2json(\"social-media\", driver))"
   ],
   "metadata": {
    "collapsed": false,
    "ExecuteTime": {
     "end_time": "2024-04-27T06:52:13.603803Z",
     "start_time": "2024-04-27T06:52:02.759575Z"
    }
   },
   "id": "1c316c2ea6d58913",
   "execution_count": 15,
   "outputs": []
  },
  {
   "cell_type": "code",
   "source": [],
   "metadata": {
    "collapsed": false
   },
   "id": "b75face8ded1cec2",
   "execution_count": null,
   "outputs": []
  }
 ],
 "metadata": {
  "kernelspec": {
   "name": "webnavigation",
   "language": "python",
   "display_name": "webnavigation"
  },
  "language_info": {
   "codemirror_mode": {
    "name": "ipython",
    "version": 2
   },
   "file_extension": ".py",
   "mimetype": "text/x-python",
   "name": "python",
   "nbconvert_exporter": "python",
   "pygments_lexer": "ipython2",
   "version": "2.7.6"
  }
 },
 "nbformat": 4,
 "nbformat_minor": 5
}
